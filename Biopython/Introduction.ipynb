{
 "cells": [
  {
   "cell_type": "markdown",
   "id": "4fdff891",
   "metadata": {},
   "source": [
    "# Introduction to PDB Files and Biopython\n",
    "\n",
    "#### In this project, we will examine the structure of proteins in PDB (Protein Data Bank) files using the biopython libraray. We will examine the structure of a PDB file, use biopython to load PDB files as well as extract information and visualize the extracted information. We have obtained protein structructral data from the Protein Data Bank website at https://www.rcsb.org/ which provide free access to protein crystal structures. We have moved the downloaded file into the folder with this Jupyter notebook."
   ]
  },
  {
   "cell_type": "markdown",
   "id": "d6bcfdb4",
   "metadata": {},
   "source": [
    "## PBD Format and parsing\n",
    "\n",
    "#### The PDB ( Protein Data Bank) file format is widely used in the field of structural biology to represent the three-dimensional structures of proteins, nucleic acids, and complex molecular assemblies. While some other bioinformatics file formats online include mainly sequence data, the PDB file format provides an assortment of information which include amino acid sequence, information about helix, information about secondary structures to generate visual representations of proteins, xyz coordinates of atoms identified in structure (does not typically include hydrogens), metadata about the protein etc. PDB files are text files with the data arranged with specific labels and seperated by strictly-delineated position in a line in the file. It is designed to be human-readable, but also machine-parasable, which makes it easy to extract specific pieces of information from PDB files."
   ]
  },
  {
   "cell_type": "code",
   "execution_count": null,
   "id": "76277d1f",
   "metadata": {},
   "outputs": [],
   "source": []
  }
 ],
 "metadata": {
  "kernelspec": {
   "display_name": "Python 3 (ipykernel)",
   "language": "python",
   "name": "python3"
  },
  "language_info": {
   "codemirror_mode": {
    "name": "ipython",
    "version": 3
   },
   "file_extension": ".py",
   "mimetype": "text/x-python",
   "name": "python",
   "nbconvert_exporter": "python",
   "pygments_lexer": "ipython3",
   "version": "3.9.13"
  }
 },
 "nbformat": 4,
 "nbformat_minor": 5
}
