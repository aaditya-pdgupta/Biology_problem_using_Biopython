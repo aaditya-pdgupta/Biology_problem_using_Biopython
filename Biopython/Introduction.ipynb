{
 "cells": [
  {
   "cell_type": "markdown",
   "id": "f8a69c2f",
   "metadata": {},
   "source": [
    "# Introduction to PDB Files and Biopython\n",
    "\n",
    "#### In this project, we will examine the structure of proteins in PDB (Protein Data Bank) files using the biopython libraray. We will examine the structure of a PDB file, use biopython to load PDB files as well as extract information and visualize the extracted information. We have obtained protein structructral data from the Protein Data Bank website at https://www.rcsb.org/ which provide free access to protein crystal structures. We have moved the downloaded file into the folder with this Jupyter notebook."
   ]
  },
  {
   "cell_type": "markdown",
   "id": "20af153a",
   "metadata": {},
   "source": [
    "## PBD Format and parsing\n",
    "\n"
   ]
  },
  {
   "cell_type": "code",
   "execution_count": null,
   "id": "0a06c6a1",
   "metadata": {},
   "outputs": [],
   "source": []
  }
 ],
 "metadata": {
  "kernelspec": {
   "display_name": "Python 3 (ipykernel)",
   "language": "python",
   "name": "python3"
  },
  "language_info": {
   "codemirror_mode": {
    "name": "ipython",
    "version": 3
   },
   "file_extension": ".py",
   "mimetype": "text/x-python",
   "name": "python",
   "nbconvert_exporter": "python",
   "pygments_lexer": "ipython3",
   "version": "3.9.13"
  }
 },
 "nbformat": 4,
 "nbformat_minor": 5
}
