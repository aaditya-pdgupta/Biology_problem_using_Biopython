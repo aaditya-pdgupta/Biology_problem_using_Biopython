{
 "cells": [
  {
   "cell_type": "markdown",
   "id": "987710fb",
   "metadata": {},
   "source": [
    "# Introduction to PDB Files and Biopython\n",
    "\n",
    "#### In this project, we will examine the structure of proteins in PDB (Protein Data Bank) files using the biopython libraray. We will examine the structure of a PDB file, use biopython to load PDB files as well as extract information and visualize the extracted information. We have obtained protein structructral data from the Protein Data Bank website at https://www.rcsb.org/ which provide free access to protein crystal structures. We have moved the downloaded file into the folder with this Jupyter notebook."
   ]
  },
  {
   "cell_type": "markdown",
   "id": "1e024d14",
   "metadata": {},
   "source": [
    "## PBD Format and parsing\n",
    "\n",
    "#### The PDB ( Protein Data Bank) file format is widely used in the field of structural biology to represent the three-dimensional structures of proteins, nucleic acids, and complex molecular assemblies. While some other bioinformatics file formats online include mainly sequence data, the PDB file format provides an assortment of information which include amino acid sequence, information about helix, information about secondary structures to generate visual representations of proteins, xyz coordinates of atoms identified in structure (does not typically include hydrogens), metadata about the protein, etc. PDB files are text files with the data arranged with specific labels and seperated by strictly-delineated position in a line in the file."
   ]
  },
  {
   "cell_type": "markdown",
   "id": "eefab992",
   "metadata": {},
   "source": [
    "#### We will run the below code to get our output."
   ]
  },
  {
   "cell_type": "code",
   "execution_count": null,
   "id": "7e5376c3",
   "metadata": {},
   "outputs": [],
   "source": [
    "import warnings\n",
    "from Bio import BiopythonWarning\n",
    "warnings.simplefilter('ignore', BiopythonWarning)\n",
    "\n",
    "import os\n",
    "\n",
    "import matplotlib.pyplot as plt\n",
    "%matplotlib inline\n",
    "import seaborn as sns\n",
    "import pandas as pd\n",
    "\n",
    "import Bio.PDB"
   ]
  },
  {
   "cell_type": "markdown",
   "id": "e1adc413",
   "metadata": {},
   "source": [
    "## Parsing PDB Files\n",
    "\n",
    "#### In this project, we will perform the parsing of data (i.e separating data into many part) from the PDB files used in this project. For this project, we use the different biopython library's which have capabilities of reading the PDB files. first, we need to import the PDB module of the biopython library with the `import Bio.PDB` import command which provides functions for parsing PDB files. \n",
    "\n",
    "#### We will use `Bio.PDB.PDBParser()` to praise the PDB files. The next we will create a parser object using the `PDBParser()` from the PDB module. \n",
    "\n",
    "#### We will also want to attach our parser object to a variable using the = symbol the same way we attach a number to a variable. Run the following code in a code cell.\n",
    "\n",
    "#### parser = Bio.PDB.PDBParser()\n",
    "\n",
    "#### Now we use the `PDBParser().get_structure()` function to parse a single PDB file using the `Bio.PDB` library in Python. We will use the `get_structure()` which returns a structure object that contains information about the protein structure contained in the PDB file. `PDBParser().get_structure()` function requires two need two arguments. The first one is 'name', which is a string through which we can give name to the structure that will be created from the PDB file and second one is 'fine_name.pdb' which is a name of the PDB file which we are extracting.\n",
    "\n",
    "#### parser.get_structure('name', 'file_name.pdb')"
   ]
  },
  {
   "cell_type": "code",
   "execution_count": null,
   "id": "a2a57c9a",
   "metadata": {},
   "outputs": [],
   "source": [
    "parser = Bio.PDB.PDBParser()\n",
    "structure = parser.get_structure('6x8j', '6x8j.pdb')"
   ]
  },
  {
   "cell_type": "markdown",
   "id": "7f65e382",
   "metadata": {},
   "source": [
    "## Structure of the Data\n",
    "\n",
    "#### We have organized the structural data extracted from the PDB in a hierachy starting with structure &rarr; model  &rarr; chain  &rarr; residue &rarr; atom. Structure refers to the 3D structure of a protein, which can be composed of one or two model, the chain represent the individual peptide chains in the protein, the residue is an amino acid residue in the chain, the residue is composition of several atoms and the atom is each atom within a given chain. By breaking down the complex structure, it is easier to understand the relationships between different parts of a protein structure and to perform more complex analyses. It also help us to undrestand and analyze the complex 3D structures of protein and other biological maromolecules. "
   ]
  },
  {
   "cell_type": "markdown",
   "id": "6657f74a",
   "metadata": {},
   "source": [
    "| Level       | Description                           |\n",
    "| ----------- | ------------------------------------- |\n",
    "| Structure   | Protein structure; may contain multiple models |\n",
    "| Model       | Particular 3D model of the protein   |\n",
    "| Chain       | Each peptide chain in the protein     |\n",
    "| Residue     | Amino acid residue in a given chain   |\n",
    "| Atom        | Atoms in a particular peptide chain   |\n"
   ]
  },
  {
   "cell_type": "markdown",
   "id": "9d70791e",
   "metadata": {},
   "source": [
    "#### PDB files have capacity of containing multiple structure of protein, but most most of them contains only one structure. We have only one model that is used in our data so we will need to access the first (and only) model using indexing. To access the item we want, we have to give the number of item behind the variable in square brackets `[ ]`. In Python indexing, numbering starts with zero, so the first protein model is `structure[0]`. If there were a second, it would be `structure[1]`.\n",
    "\n",
    "#### We use a `for` loop to run through our protein model so we can be to know to how many chains are in it.  The code below systematically goes through ever chain in the `protein_model`, assigns in to the variable chain, and then prints (i.e., displays on the screen) the information.\n",
    "\n",
    "#### protein_model = structure[0]"
   ]
  },
  {
   "cell_type": "code",
   "execution_count": null,
   "id": "a2e91ca6",
   "metadata": {},
   "outputs": [],
   "source": [
    "protein_model = structure[0]\n",
    "\n",
    "for chain in protein_model:\n",
    "    print(chain)"
   ]
  },
  {
   "cell_type": "markdown",
   "id": "7da3b2ee",
   "metadata": {},
   "source": [
    "- Chain id=A\n",
    "- Chain id=C\n",
    "- Chain id=B\n",
    "- Chain id=D\n",
    "- Chain id=E\n",
    "- Chain id=F\n",
    "\n",
    "    \n",
    "#### To access a particular chain, use the chain's id. For example, to access Chain A, type protein_model['A'].Select the first chain and attach its information to an intuative variable of your choice."
   ]
  },
  {
   "cell_type": "code",
   "execution_count": null,
   "id": "033478ff",
   "metadata": {},
   "outputs": [],
   "source": [
    "chain_A = protein_model['A']\n",
    "res = chain_A[58]\n",
    "res"
   ]
  },
  {
   "cell_type": "markdown",
   "id": "4dede8f8",
   "metadata": {},
   "source": [
    "#### The output for the above is Residue TYR het=  resseq=58 icode="
   ]
  },
  {
   "cell_type": "code",
   "execution_count": null,
   "id": "619742e7",
   "metadata": {},
   "outputs": [],
   "source": [
    "res.get_unpacked_list()"
   ]
  },
  {
   "cell_type": "markdown",
   "id": "b8686d3a",
   "metadata": {},
   "source": [
    "The list of output atoms is:\n",
    "\n",
    "- Atom N\n",
    "- Atom CA\n",
    "- Atom C\n",
    "- Atom O\n",
    "- Atom CB\n",
    "- Atom CG\n",
    "- Atom CD1\n",
    "- Atom CD2\n",
    "- Atom CE1\n",
    "- Atom CE2\n",
    "- Atom CZ\n",
    "- Atom OH\n",
    "\n",
    "\n",
    "\n",
    "\n",
    " \n",
    " "
   ]
  },
  {
   "cell_type": "markdown",
   "id": "e331b515",
   "metadata": {},
   "source": [
    "## Examining Amino Acid Frequency\n",
    "\n",
    "#### Examining Amino acid frequency in biopython helps us to analyze "
   ]
  },
  {
   "cell_type": "code",
   "execution_count": 4,
   "id": "749e6de7",
   "metadata": {},
   "outputs": [],
   "source": [
    "def get_aa(file):\n",
    "    '''Accepts a PDB files name (string) and returns a list of residues\n",
    "    that occur in a peptide.\n",
    "    \n",
    "     >>> ('1abc.pdb') -> ['GLY', 'ALA', 'LYS']\n",
    "    '''\n",
    "\n",
    "    amino_acids = []  # empty list to add the amino acids to\n",
    "\n",
    "    parser = Bio.PDB.PDBParser()\n",
    "    structure = parser.get_structure('6x8j', '6x8j.pdb')\n",
    "    pp = Bio.PDB.PPBuilder().build_peptides(structure[0])\n",
    "\n",
    "    # go through each chain and residue and append the amino acid identity to the list\n",
    "    for chain in pp:\n",
    "        for res in chain:\n",
    "            res_name = res.get_resname()\n",
    "            amino_acids.append(res_name)\n",
    "            \n",
    "    return amino_acids \n"
   ]
  },
  {
   "cell_type": "code",
   "execution_count": null,
   "id": "217fb145",
   "metadata": {},
   "outputs": [],
   "source": [
    "amino_acids = get_aa('6x8j.pdb')"
   ]
  },
  {
   "cell_type": "code",
   "execution_count": null,
   "id": "33e236b4",
   "metadata": {},
   "outputs": [],
   "source": []
  }
 ],
 "metadata": {
  "kernelspec": {
   "display_name": "Python 3 (ipykernel)",
   "language": "python",
   "name": "python3"
  },
  "language_info": {
   "codemirror_mode": {
    "name": "ipython",
    "version": 3
   },
   "file_extension": ".py",
   "mimetype": "text/x-python",
   "name": "python",
   "nbconvert_exporter": "python",
   "pygments_lexer": "ipython3",
   "version": "3.9.13"
  }
 },
 "nbformat": 4,
 "nbformat_minor": 5
}
