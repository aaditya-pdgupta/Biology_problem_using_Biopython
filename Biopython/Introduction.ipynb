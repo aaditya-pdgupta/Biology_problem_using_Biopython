{
 "cells": [
  {
   "cell_type": "markdown",
   "id": "5ba988d3",
   "metadata": {},
   "source": [
    "# Introduction to PDB Files and Biopython\n",
    "\n",
    "#### In this project, we will examine the structure of proteins in PDB (Protein Data Bank) files using the biopython libraray. We will examine the structure of a PDB file, use biopython to load PDB files as well as extract information and visualize the extracted information. We have obtained protein structructral data from the Protein Data Bank website at https://www.rcsb.org/ which provide free access to protein crystal structures. We have moved the downloaded file into the folder with this Jupyter notebook."
   ]
  },
  {
   "cell_type": "markdown",
   "id": "2b78598c",
   "metadata": {},
   "source": [
    "## PBD Format and parsing\n",
    "\n",
    "#### The PDB ( Protein Data Bank) file format is widely used in the field of structural biology to represent the three-dimensional structures of proteins, nucleic acids, and complex molecular assemblies. While some other bioinformatics file formats online include mainly sequence data, the PDB file format provides an assortment of information which include amino acid sequence, information about helix, information about secondary structures to generate visual representations of proteins, xyz coordinates of atoms identified in structure (does not typically include hydrogens), metadata about the protein, etc. PDB files are text files with the data arranged with specific labels and seperated by strictly-delineated position in a line in the file."
   ]
  },
  {
   "cell_type": "markdown",
   "id": "bea283ff",
   "metadata": {},
   "source": [
    "#### We will run the below code to get our output."
   ]
  },
  {
   "cell_type": "code",
   "execution_count": null,
   "id": "155ff9cb",
   "metadata": {},
   "outputs": [],
   "source": [
    "import warnings\n",
    "from Bio import BiopythonWarning\n",
    "warnings.simplefilter('ignore', BiopythonWarning)\n",
    "\n",
    "import os\n",
    "\n",
    "import matplotlib.pyplot as plt\n",
    "%matplotlib inline\n",
    "import seaborn as sns\n",
    "import pandas as pd\n",
    "\n",
    "import Bio.PDB"
   ]
  },
  {
   "cell_type": "markdown",
   "id": "063f30e8",
   "metadata": {},
   "source": [
    "## Parsing PDB Files\n",
    "\n",
    "#### In this project, we will perform the parsing of data (i.e separating data into many part) \n"
   ]
  },
  {
   "cell_type": "code",
   "execution_count": 3,
   "id": "0e778037",
   "metadata": {},
   "outputs": [
    {
     "ename": "NameError",
     "evalue": "name 'Bio' is not defined",
     "output_type": "error",
     "traceback": [
      "\u001b[1;31m---------------------------------------------------------------------------\u001b[0m",
      "\u001b[1;31mNameError\u001b[0m                                 Traceback (most recent call last)",
      "\u001b[1;32m~\\AppData\\Local\\Temp\\ipykernel_10792\\3711888634.py\u001b[0m in \u001b[0;36m<module>\u001b[1;34m\u001b[0m\n\u001b[1;32m----> 1\u001b[1;33m \u001b[0mparser\u001b[0m \u001b[1;33m=\u001b[0m \u001b[0mBio\u001b[0m\u001b[1;33m.\u001b[0m\u001b[0mPDB\u001b[0m\u001b[1;33m.\u001b[0m\u001b[0mPDBParser\u001b[0m\u001b[1;33m(\u001b[0m\u001b[1;33m)\u001b[0m\u001b[1;33m\u001b[0m\u001b[1;33m\u001b[0m\u001b[0m\n\u001b[0m\u001b[0;32m      2\u001b[0m \u001b[0mstructure\u001b[0m \u001b[1;33m=\u001b[0m \u001b[0mparser\u001b[0m\u001b[1;33m.\u001b[0m\u001b[0mget_structure\u001b[0m\u001b[1;33m(\u001b[0m\u001b[1;34m'6x8j'\u001b[0m\u001b[1;33m,\u001b[0m \u001b[1;34m'6x8j.pdb'\u001b[0m\u001b[1;33m)\u001b[0m\u001b[1;33m\u001b[0m\u001b[1;33m\u001b[0m\u001b[0m\n",
      "\u001b[1;31mNameError\u001b[0m: name 'Bio' is not defined"
     ]
    }
   ],
   "source": [
    "parser = Bio.PDB.PDBParser()\n",
    "structure = parser.get_structure('6x8j', '6x8j.pdb')"
   ]
  },
  {
   "cell_type": "code",
   "execution_count": 2,
   "id": "44e9ea46",
   "metadata": {},
   "outputs": [],
   "source": [
    "def get_aa(file):\n",
    "    '''Accepts a PDB files name (string) and returns a list of residues\n",
    "    that occur in a peptide.\n",
    "    \n",
    "     >>> ('1abc.pdb') -> ['GLY', 'ALA', 'LYS']\n",
    "    '''\n",
    "\n",
    "    amino_acids = []  # empty list to add the amino acids to\n",
    "\n",
    "    parser = Bio.PDB.PDBParser()\n",
    "    structure = parser.get_structure('6x8j', '6x8j.pdb')\n",
    "    pp = Bio.PDB.PPBuilder().build_peptides(structure[0])\n",
    "\n",
    "    # go through each chain and residue and append the amino acid identity to the list\n",
    "    for chain in pp:\n",
    "        for res in chain:\n",
    "            res_name = res.get_resname()\n",
    "            amino_acids.append(res_name)\n",
    "            \n",
    "    return amino_acids \n"
   ]
  },
  {
   "cell_type": "code",
   "execution_count": null,
   "id": "49b97a71",
   "metadata": {},
   "outputs": [],
   "source": []
  }
 ],
 "metadata": {
  "kernelspec": {
   "display_name": "Python 3 (ipykernel)",
   "language": "python",
   "name": "python3"
  },
  "language_info": {
   "codemirror_mode": {
    "name": "ipython",
    "version": 3
   },
   "file_extension": ".py",
   "mimetype": "text/x-python",
   "name": "python",
   "nbconvert_exporter": "python",
   "pygments_lexer": "ipython3",
   "version": "3.9.13"
  }
 },
 "nbformat": 4,
 "nbformat_minor": 5
}
