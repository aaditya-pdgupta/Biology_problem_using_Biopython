{
 "cells": [
  {
   "cell_type": "markdown",
   "id": "79e5b5e6",
   "metadata": {},
   "source": [
    "# Introduction to PDB Files and Biopython\n",
    "\n",
    "#### In this project, we will examine the structure of proteins in PDB (Protein Data Bank) files using the biopython libraray. We will examine the structure of a PDB file, use biopython to load PDB files as well as extract information and visualize the extracted information. We have obtained protein structructral data from the Protein Data Bank website at https://www.rcsb.org/ which provide free access to protein crystal structures. We have moved the downloaded file into the folder with this Jupyter notebook."
   ]
  },
  {
   "cell_type": "markdown",
   "id": "16f09879",
   "metadata": {},
   "source": [
    "## PBD Format and parsing\n",
    "\n",
    "#### The PDB ( Protein Data Bank) file format is widely used in the field of structural biology to represent the three-dimensional structures of proteins, nucleic acids, and complex molecular assemblies. While some other bioinformatics file formats online include mainly sequence data, the PDB file format provides an assortment of information which include amino acid sequence, information about helix, information about secondary structures to generate visual representations of proteins, xyz coordinates of atoms identified in structure (does not typically include hydrogens), metadata about the protein, etc. PDB files are text files with the data arranged with specific labels and seperated by strictly-delineated position in a line in the file."
   ]
  },
  {
   "cell_type": "markdown",
   "id": "3ad261ae",
   "metadata": {},
   "source": [
    "#### We will run the below code to get our output."
   ]
  },
  {
   "cell_type": "code",
   "execution_count": null,
   "id": "4d274420",
   "metadata": {},
   "outputs": [],
   "source": [
    "import warnings\n",
    "from Bio import BiopythonWarning\n",
    "warnings.simplefilter('ignore', BiopythonWarning)\n",
    "\n",
    "import os\n",
    "\n",
    "import matplotlib.pyplot as plt\n",
    "%matplotlib inline\n",
    "import seaborn as sns\n",
    "import pandas as pd\n",
    "\n",
    "import Bio.PDB"
   ]
  },
  {
   "cell_type": "markdown",
   "id": "c349f2ff",
   "metadata": {},
   "source": [
    "## Parsing PDB Files\n",
    "\n",
    "#### In this project, we will perform the parsing of data (i.e separating data into many part) from the PDB files used in this project. For this project, we use the different biopython library's which have capabilities of reading the PDB files. first, we need to import the PDB module of the biopython library with the `import Bio.PDB` import command which provides functions for parsing PDB files. \n",
    "\n",
    "#### We will use `Bio.PDB.PDBParser()` to praise the PDB files. The next we will create a parser object using the `PDBParser()` from the PDB module. \n",
    "\n",
    "#### We will also want to attach our parser object to a variable using the = symbol the same way we attach a number to a variable. Run the following code in a code cell.\n",
    "\n",
    "#### parser = Bio.PDB.PDBParser()\n",
    "\n",
    "#### Now we use the `PDBParser().get_structure()` function to parse a single PDB file using the `Bio.PDB` library in Python. We will use the `get_structure()` which returns a structure object that contains information about the protein structure contained in the PDB file. `PDBParser().get_structure()` function requires two need two arguments. The first one is 'name', which is a string through which we can give name to the structure that will be created from the PDB file and second one is 'fine_name.pdb' which is a name of the PDB file which we are extracting.\n",
    "\n",
    "#### parser.get_structure('name', 'file_name.pdb')"
   ]
  },
  {
   "cell_type": "code",
   "execution_count": null,
   "id": "5b56b7b1",
   "metadata": {},
   "outputs": [],
   "source": [
    "parser = Bio.PDB.PDBParser()\n",
    "structure = parser.get_structure('6x8j', '6x8j.pdb')"
   ]
  },
  {
   "cell_type": "markdown",
   "id": "99a60d39",
   "metadata": {},
   "source": [
    "| Level | Description |\n",
    "|-------|-------------|\n",
    "| Structure | Protein structure; may contain multiple models |\n",
    "| Model | Particular 3D model of the protein |\n",
    "| Chain | Each peptide chain in the protein |\n",
    "| Residue | Amino acid residue in a given chain |\n",
    "| Atom | Atoms in a particular peptide chain |\n"
   ]
  },
  {
   "cell_type": "code",
   "execution_count": 2,
   "id": "76d127c9",
   "metadata": {},
   "outputs": [],
   "source": [
    "def get_aa(file):\n",
    "    '''Accepts a PDB files name (string) and returns a list of residues\n",
    "    that occur in a peptide.\n",
    "    \n",
    "     >>> ('1abc.pdb') -> ['GLY', 'ALA', 'LYS']\n",
    "    '''\n",
    "\n",
    "    amino_acids = []  # empty list to add the amino acids to\n",
    "\n",
    "    parser = Bio.PDB.PDBParser()\n",
    "    structure = parser.get_structure('6x8j', '6x8j.pdb')\n",
    "    pp = Bio.PDB.PPBuilder().build_peptides(structure[0])\n",
    "\n",
    "    # go through each chain and residue and append the amino acid identity to the list\n",
    "    for chain in pp:\n",
    "        for res in chain:\n",
    "            res_name = res.get_resname()\n",
    "            amino_acids.append(res_name)\n",
    "            \n",
    "    return amino_acids \n"
   ]
  },
  {
   "cell_type": "code",
   "execution_count": null,
   "id": "d864ec26",
   "metadata": {},
   "outputs": [],
   "source": []
  }
 ],
 "metadata": {
  "kernelspec": {
   "display_name": "Python 3 (ipykernel)",
   "language": "python",
   "name": "python3"
  },
  "language_info": {
   "codemirror_mode": {
    "name": "ipython",
    "version": 3
   },
   "file_extension": ".py",
   "mimetype": "text/x-python",
   "name": "python",
   "nbconvert_exporter": "python",
   "pygments_lexer": "ipython3",
   "version": "3.9.13"
  }
 },
 "nbformat": 4,
 "nbformat_minor": 5
}
